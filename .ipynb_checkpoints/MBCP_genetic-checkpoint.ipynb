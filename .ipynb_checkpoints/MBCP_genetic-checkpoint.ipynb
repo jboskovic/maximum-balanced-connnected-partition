{
 "cells": [
  {
   "cell_type": "code",
   "execution_count": 275,
   "metadata": {},
   "outputs": [],
   "source": [
    "import random\n",
    "import numpy as np\n",
    "import math"
   ]
  },
  {
   "cell_type": "code",
   "execution_count": 276,
   "metadata": {},
   "outputs": [],
   "source": [
    "adjacency_list = [[1,2], [0,4],[0,3], [2,4], [1,3]]\n",
    "vertics_cost = [3,7,1,4,9]"
   ]
  },
  {
   "cell_type": "code",
   "execution_count": 277,
   "metadata": {},
   "outputs": [],
   "source": [
    "def remove_node(adjacency_list, node):\n",
    "    graph = adjacency_list.copy()\n",
    "    graph[node] = [-1]\n",
    "    return [[ele for ele in sub if ele != node] for sub in graph]"
   ]
  },
  {
   "cell_type": "code",
   "execution_count": 278,
   "metadata": {},
   "outputs": [
    {
     "name": "stdout",
     "output_type": "stream",
     "text": [
      "[[0, 1], [2, 3, 4]]\n",
      "2\n"
     ]
    }
   ],
   "source": [
    "# klasa graf, koja racuna broj komponenti grafa\n",
    "class Graph:\n",
    "    def __init__(self, V):\n",
    "        self.V = V\n",
    "        self.adj = [[] for i in range(V)]\n",
    "    def DFSUtil(self, temp, v, visited):\n",
    "        visited[v] = True\n",
    "        temp.append(v)\n",
    "        for i in self.adj[v]:\n",
    "            if visited[i] == False:\n",
    "                temp = self.DFSUtil(temp, i, visited)\n",
    "        return temp\n",
    "    def addEdge(self, v, w):\n",
    "        self.adj[v].append(w)\n",
    "        self.adj[w].append(v)\n",
    "    def connectedComponents(self):\n",
    "        visited = []\n",
    "        cc = []\n",
    "        for i in range(self.V):\n",
    "            if self.adj[i][0] == -1:\n",
    "                visited.append(True)\n",
    "            else:\n",
    "                visited.append(False)\n",
    "        for v in range(self.V):\n",
    "            if visited[v] == False:\n",
    "                temp=[]\n",
    "                cc.append(self.DFSUtil(temp, v, visited))\n",
    "        return cc\n",
    "    def remove_node(node):\n",
    "        self.adj[node] = [-1]\n",
    "        return [[ele for ele in sub if ele != node] for sub in self.adj]\n",
    "\n",
    "graph = Graph(5)\n",
    "graph.addEdge(0,1)\n",
    "#graph.addEdge(0,2)\n",
    "graph.addEdge(1,0)\n",
    "#graph.addEdge(1,4)\n",
    "#graph.addEdge(2,0)\n",
    "graph.addEdge(2,3)\n",
    "graph.addEdge(3,2)\n",
    "graph.addEdge(3,4)\n",
    "#graph.addEdge(4,1)\n",
    "graph.addEdge(4,3)\n",
    "\n",
    "cc = graph.connectedComponents()\n",
    "print(cc)\n",
    "print(len(cc))\n"
   ]
  },
  {
   "cell_type": "code",
   "execution_count": null,
   "metadata": {},
   "outputs": [],
   "source": []
  },
  {
   "cell_type": "code",
   "execution_count": 279,
   "metadata": {},
   "outputs": [],
   "source": [
    "#klasa sadrzi informacije o genomu \n",
    "class Individual:\n",
    "    def __init__(self):\n",
    "        self.code = []\n",
    "        for i in range(len(adjacency_list)):\n",
    "            self.code.append(random.random() < 0.5)\n",
    "        self.fitness = self.fitnessFunction()\n",
    "        self.subgraph1, self.subgraph2 = self.getSubgraphs()\n",
    "    def __lt__(self, other):\n",
    "        return self.fitness < other.fitness\n",
    "    def fitnessFunction(self):\n",
    "        w1 = 0\n",
    "        w2 = 0\n",
    "        for i in range(len(self.code)):\n",
    "            if self.code[i]:\n",
    "                w1 += vertics_cost[i]\n",
    "            else:\n",
    "                w2 += vertics_cost[i]\n",
    "        return abs(w1-w2)\n",
    "    def getSubgraphs(self):\n",
    "        sub1 = adjacency_list.copy()\n",
    "        sub2 = adjacency_list.copy()\n",
    "        for i in range(len(self.code)):\n",
    "            if self.code[i]:\n",
    "                sub2 = remove_node(sub2, i)\n",
    "            else:\n",
    "                sub1 = remove_node(sub1, i)\n",
    "        return sub1, sub2"
   ]
  },
  {
   "cell_type": "code",
   "execution_count": 280,
   "metadata": {},
   "outputs": [],
   "source": [
    "Npop = 100\n",
    "probability = 0.05\n"
   ]
  },
  {
   "cell_type": "code",
   "execution_count": 281,
   "metadata": {},
   "outputs": [],
   "source": [
    "def selection(population):\n",
    "    min = float('inf')\n",
    "    for i in range(6):\n",
    "        j = random.randrange(Npop)\n",
    "        if population[j].fitness < min:\n",
    "            min = population[j].fitness\n",
    "            k = j\n",
    "    return k"
   ]
  },
  {
   "cell_type": "code",
   "execution_count": 282,
   "metadata": {},
   "outputs": [],
   "source": [
    "def crossover(parent1, parent2, child1, child2):\n",
    "    i = random.randrange(len(parent1.code))\n",
    "    for j in range(i):\n",
    "        child1.code[j] = parent1.code[j]\n",
    "        child2.code[j] = parent2.code[j]\n",
    "    for j in range(i, len(parent1.code)):\n",
    "        child1.code[j] = parent2.code[j]\n",
    "        child2.code[j] = parent1.code[j]\n",
    "    "
   ]
  },
  {
   "cell_type": "code",
   "execution_count": 283,
   "metadata": {},
   "outputs": [],
   "source": [
    "def mutation(individual):\n",
    "    for i in range(len(individual.code)):\n",
    "        if random.random() > probability:\n",
    "            continue\n",
    "        individual.code[i] = not individual.code[i]\n",
    "        "
   ]
  },
  {
   "cell_type": "code",
   "execution_count": 284,
   "metadata": {},
   "outputs": [
    {
     "name": "stdout",
     "output_type": "stream",
     "text": [
      "Solution  0\n",
      "Graph 1 [[], [-1], [-1], [-1], []]\n",
      "Graph 2 [[-1], [], [3], [2], [-1]]\n",
      "Vertics [True, False, False, False, True]\n"
     ]
    }
   ],
   "source": [
    "#pocetni kod genetskog algoritma\n",
    "#potrebno povecati vrednost fitnes funkcije ukoliko dobijeni grafovi nisu povezani\n",
    "population = []\n",
    "newPopulation = []\n",
    "\n",
    "for i in range(Npop):\n",
    "    population.append(Individual())\n",
    "    newPopulation.append(Individual())\n",
    "\n",
    "for iteration in range(500):\n",
    "    population.sort()\n",
    "    for i in range(30):\n",
    "        newPopulation[i] = population[i]\n",
    "        \n",
    "    for i in range(30,Npop,2):\n",
    "        k1 = selection(population)\n",
    "        k2 = selection(population)\n",
    "        crossover(population[k1], population[k2],newPopulation[i],newPopulation[i+1])\n",
    "        mutation(newPopulation[i])\n",
    "        mutation(newPopulation[i+1])\n",
    "        newPopulation[i].fitness = newPopulation[i].fitnessFunction()\n",
    "        newPopulation[i+1].fitness = newPopulation[i+1].fitnessFunction()\n",
    "    population = newPopulation\n",
    "population.sort()\n",
    "print('Solution ', population[0].fitness)\n",
    "print('Graph 1', population[0].subgraph1)\n",
    "print('Graph 2',population[0].subgraph2)\n",
    "print('Vertics', population[0].code)\n",
    "\n",
    "\n",
    "    "
   ]
  },
  {
   "cell_type": "code",
   "execution_count": null,
   "metadata": {},
   "outputs": [],
   "source": []
  },
  {
   "cell_type": "code",
   "execution_count": null,
   "metadata": {},
   "outputs": [],
   "source": []
  }
 ],
 "metadata": {
  "kernelspec": {
   "display_name": "Python 3",
   "language": "python",
   "name": "python3"
  },
  "language_info": {
   "codemirror_mode": {
    "name": "ipython",
    "version": 3
   },
   "file_extension": ".py",
   "mimetype": "text/x-python",
   "name": "python",
   "nbconvert_exporter": "python",
   "pygments_lexer": "ipython3",
   "version": "3.8.2"
  }
 },
 "nbformat": 4,
 "nbformat_minor": 4
}
