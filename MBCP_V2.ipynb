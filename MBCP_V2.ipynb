{
 "cells": [
  {
   "cell_type": "code",
   "execution_count": 48,
   "metadata": {},
   "outputs": [],
   "source": [
    "import random\n",
    "import math"
   ]
  },
  {
   "cell_type": "code",
   "execution_count": 49,
   "metadata": {},
   "outputs": [],
   "source": [
    "#graf je predstavljen kao lista listi\n",
    "#indeks liste predstavlja cvor\n",
    "#element liste je lista cvorova sa kojima je dati cvor povezan\n",
    "#ako se u grafu ne nalazi cvor u listi na indeksu tog cvora zapisujemo [-1]\n",
    "class Graph:\n",
    "    #ajdacency_list - lista listi\n",
    "    #cost - niz cena cvorova\n",
    "    #V - broj cvorova\n",
    "    def __init__(self, adjacency_list, cost):\n",
    "        self.cost = cost\n",
    "        self.adj = adjacency_list\n",
    "        self.V = len(self.adj)\n",
    "    \n",
    "    #DFS obilazak grafa\n",
    "    #povratna vrednost - lista cvorova\n",
    "    def DFSUtil(self, temp, v, visited):\n",
    "        visited[v] = True\n",
    "        temp.append(v)\n",
    "        for i in self.adj[v]:\n",
    "            if visited[i] == False:\n",
    "                temp = self.DFSUtil(temp, i, visited)\n",
    "        return temp\n",
    "    \n",
    "    #povratna vreednost - lista komponenti\n",
    "    def connectedComponents(self):\n",
    "        visited = []\n",
    "        cc = []\n",
    "        for i in range(self.V):\n",
    "            #self.adj[i] != [] znaci da iz cvora polaze grane\n",
    "            #self.adj[i][0] == -1 znaci da se cvor ne nalazi u grafu\n",
    "            #posto se cvor ne nalazi u grafu zapisujemo kao da je posecen\n",
    "            #time ne remetimo obilazak grafa\n",
    "            if self.adj[i] != [] and self.adj[i][0] == -1:\n",
    "                visited.append(True)\n",
    "            else:\n",
    "                visited.append(False)\n",
    "        for v in range(self.V):\n",
    "            if visited[v] == False:\n",
    "                temp = []\n",
    "                cc.append(self.DFSUtil(temp, v, visited))\n",
    "        return cc\n",
    "    #funkcija vraca novi graf koji ne sadrzi cvor node (kao ni njegove grane)\n",
    "    #izbacujemo cvor i sve grane koje polaze iz tog cvora\n",
    "    #zapisujemo -1 umesto liste grana koje polaze iz cvora\n",
    "    #iz svih lista grana izbacujemo granu koja ide ka izbacenom cvoru\n",
    "    def remove_node(self,node):\n",
    "        newAdj = self.adj.copy()\n",
    "        newAdj[node] = [-1]\n",
    "        newAdj = [[ele for ele in sub if ele != node] for sub in newAdj]\n",
    "        return Graph(newAdj, self.cost)\n",
    "\n",
    "    #povratna vrednost funkcije je najveca cena cvora iz datog grafa\n",
    "    def maxCost(self):\n",
    "        maks = -float('inf')\n",
    "        #prolazimo kroz sve cvovore koji se nalaze u grafu\n",
    "        for i in range(self.V):\n",
    "            #uslov u zagradi proverava da li je cvor u grafu\n",
    "            if (self.adj[i] != [] and self.adj[i][0] != -1) or self.adj[i] ==[]:\n",
    "                if self.cost[i] > maks:\n",
    "                    maks = self.cost[i]\n",
    "        return maks"
   ]
  },
  {
   "cell_type": "code",
   "execution_count": 50,
   "metadata": {},
   "outputs": [
    {
     "name": "stdout",
     "output_type": "stream",
     "text": [
      "[[1, 2, 5], [0, 5, 2], [0, 1, 3, 5], [2, 4], [3, 5], [0, 1, 2, 4]]\n",
      "[[0, 1, 5, 2, 3, 4]]\n",
      "8\n",
      "[[-1], [5, 2], [1, 3, 5], [2, 4], [3, 5], [1, 2, 4]]\n",
      "[[1, 5, 2, 3, 4]]\n",
      "6\n"
     ]
    }
   ],
   "source": [
    "#Provera klase Graph\n",
    "adjacency_list = [[1,2,5], [0,5,2],[0,1,3,5], [2,4], [3,5],[0,1,2,4]]\n",
    "vertics_cost = [8,4,1,6,5,4]\n",
    "graph = Graph(adjacency_list, vertics_cost)\n",
    "print(graph.adj)\n",
    "print(graph.connectedComponents())\n",
    "print(graph.maxCost())\n",
    "graphWithout0 = graph.remove_node(0)\n",
    "print(graphWithout0.adj)\n",
    "print(graphWithout0.connectedComponents())\n",
    "print(graphWithout0.maxCost())"
   ]
  },
  {
   "cell_type": "code",
   "execution_count": 66,
   "metadata": {},
   "outputs": [],
   "source": [
    "#klasa jedinki\n",
    "#prosledjujemo joj pocetni graf\n",
    "#jedinka je reprezentovana u obliku niza nula i jedinica (niz je velicine broja cvorova u grafu)\n",
    "#nula oznacava da se cvor (indeks niza oznacava cvor) nalazi u jednom podgrafu\n",
    "#a jedinica da se naalzi u drugom\n",
    "class Individual:\n",
    "    def __init__(self, graph):\n",
    "        self.graph = graph\n",
    "        self.code = []\n",
    "        self.V = len(graph.adj)\n",
    "        for i in range(self.V):\n",
    "            self.code.append(random.random() < 0.5)\n",
    "        self.fitness = self.fitnessFunction()\n",
    "    #definise nacin poredjenja jedinki\n",
    "    def __lt__(self, other):\n",
    "        return self.fitness < other.fitness\n",
    "    #racunamo u odnosu na broj komponenti podgrafova\n",
    "    def penalty_function(self):\n",
    "        graph1, graph2 = self.getSubgraphs()\n",
    "        self.subgraph1 = graph1\n",
    "        self.subgraph2 = graph2\n",
    "        ncc1 = len(graph1.connectedComponents())\n",
    "        ncc2 = len(graph2.connectedComponents())\n",
    "                        \n",
    "        max1 = self.subgraph1.maxCost()\n",
    "        max2 = self.subgraph2.maxCost()\n",
    "      \n",
    "        return (ncc1-1)*max1 + (ncc2-1)*max2\n",
    "\n",
    "    #fitnes raacuna koliko su priblizne vrednosti suma dva podgrafa\n",
    "    #sto je fitnes manji resenje je bolje\n",
    "    #penalti funcija sluzi kao kazneni poeni ako dobijemo podgrafove\n",
    "    #koji nisu povezani\n",
    "    def fitnessFunction(self):\n",
    "        w1 = 0\n",
    "        w2 = 0\n",
    "        for i in range(self.V):\n",
    "            if self.code[i]:\n",
    "                w1 += self.graph.cost[i]\n",
    "            else:\n",
    "                w2 += self.graph.cost[i]\n",
    "\n",
    "        return abs(w1-w2) + self.penalty_function()\n",
    "    \n",
    "    def getSubgraphs(self):\n",
    "        graph1 = Graph(self.graph.adj.copy(), self.graph.cost)\n",
    "        graph2 = Graph(self.graph.adj.copy(), self.graph.cost)\n",
    "        for i in range(self.V):\n",
    "            if self.code[i]:\n",
    "                graph2 = graph2.remove_node(i)\n",
    "            else:\n",
    "                graph1 = graph1.remove_node(i)\n",
    "        return graph1, graph2\n"
   ]
  },
  {
   "cell_type": "code",
   "execution_count": 67,
   "metadata": {},
   "outputs": [
    {
     "name": "stdout",
     "output_type": "stream",
     "text": [
      "[[1, 2, 5], [0, 5, 2], [0, 1, 3, 5], [2, 4], [3, 5], [0, 1, 2, 4]]\n",
      "[[2], [-1], [0, 3], [2, 4], [3], [-1]]\n",
      "[[-1], [5], [-1], [-1], [-1], [1]]\n",
      "[True, False, True, True, True, False]\n",
      "12\n"
     ]
    }
   ],
   "source": [
    "#provera klase Individual\n",
    "ind = Individual(graph)\n",
    "print(ind.graph.adj)\n",
    "print(ind.subgraph1.adj)\n",
    "print(ind.subgraph2.adj)\n",
    "print(ind.code)\n",
    "print(ind.fitness)\n"
   ]
  },
  {
   "cell_type": "code",
   "execution_count": 68,
   "metadata": {},
   "outputs": [],
   "source": [
    "#turnir selekcija\n",
    "# nTournament - velicina turnira\n",
    "def selection(population):\n",
    "    min = float('inf')\n",
    "    for i in range(nTournament):\n",
    "        j = random.randrange(len(population))\n",
    "        if population[j].fitness < min:\n",
    "            min = population[j].fitness\n",
    "            k = j\n",
    "    return k"
   ]
  },
  {
   "cell_type": "code",
   "execution_count": 69,
   "metadata": {},
   "outputs": [],
   "source": [
    "def crossover(parent1, parent2, child1, child2):\n",
    "    i = random.randrange(len(parent1.code))\n",
    "    for j in range(i):\n",
    "        child1.code[j] = parent1.code[j]\n",
    "        child2.code[j] = parent2.code[j]\n",
    "    for j in range(i, len(parent1.code)):\n",
    "        child1.code[j] = parent2.code[j]\n",
    "        child2.code[j] = parent1.code[j]"
   ]
  },
  {
   "cell_type": "code",
   "execution_count": 70,
   "metadata": {},
   "outputs": [],
   "source": [
    "#mutacija\n",
    "#probability - verovatnoca mutacije na genu\n",
    "def mutation(individual):\n",
    "    for i in range(len(individual.code)):\n",
    "        if random.random() > probability:\n",
    "            continue\n",
    "        individual.code[i] = not individual.code[i]"
   ]
  },
  {
   "cell_type": "code",
   "execution_count": 71,
   "metadata": {},
   "outputs": [],
   "source": [
    "#parametri genetskog algoritma\n",
    "nTournament = 6\n",
    "probability = 0.05\n",
    "nPopulation = 100\n",
    "nIterations = 500\n",
    "nElite = 30 "
   ]
  },
  {
   "cell_type": "code",
   "execution_count": null,
   "metadata": {},
   "outputs": [],
   "source": []
  },
  {
   "cell_type": "code",
   "execution_count": 77,
   "metadata": {},
   "outputs": [],
   "source": [
    "#genetski algoritam\n",
    "def genetic_algorithm(nPopulation, nIterations, nElite, nTournament, probability, graph):\n",
    "    population = []\n",
    "    newPopulation = []\n",
    "    for i in range(nPopulation):\n",
    "        population.append(Individual(graph))\n",
    "        newPopulation.append(Individual(graph))\n",
    "\n",
    "    for iteration in range(nIterations):\n",
    "        population.sort()\n",
    "        #sacuvam elitne jedinke - prvih nElite jedinki ostaju u populaciji\n",
    "        for i in range(nElite):\n",
    "            newPopulation[i] = population[i]\n",
    "\n",
    "        for i in range(nElite, nPopulation, 2):\n",
    "            k1 = selection(population)\n",
    "            k2 = selection(population)\n",
    "            crossover(population[k1], population[k2],newPopulation[i],newPopulation[i+1])\n",
    "            mutation(newPopulation[i])\n",
    "            mutation(newPopulation[i+1])\n",
    "            newPopulation[i].fitness = newPopulation[i].fitnessFunction()\n",
    "            newPopulation[i+1].fitness = newPopulation[i+1].fitnessFunction()\n",
    "\n",
    "        population = newPopulation\n",
    "\n",
    "    population.sort()\n",
    "    return population[0]"
   ]
  },
  {
   "cell_type": "code",
   "execution_count": 78,
   "metadata": {},
   "outputs": [],
   "source": [
    "def print_solution(solution):\n",
    "    print('Solution: ')\n",
    "    print('Graph1 - ', solution.subgraph1.adj)\n",
    "    print('Graph2 - ', solution.subgraph2.adj)\n",
    "    print('Fitness - ', solution.fitness)\n",
    "    print('Code - ', solution.code)"
   ]
  },
  {
   "cell_type": "code",
   "execution_count": 82,
   "metadata": {},
   "outputs": [
    {
     "name": "stdout",
     "output_type": "stream",
     "text": [
      "Solution: \n",
      "Graph1 -  [[-1], [5], [-1], [-1], [5], [1, 4]]\n",
      "Graph2 -  [[2], [-1], [0, 3], [2], [-1], [-1]]\n",
      "Fitness -  2\n",
      "Code -  [False, True, False, False, True, True]\n"
     ]
    }
   ],
   "source": [
    "adjacency_list = [[1,2,5], [0,5,2],[0,1,3,5], [2,4], [3,5],[0,1,2,4]]\n",
    "vertics_cost = [8,4,1,6,5,4]\n",
    "graph = Graph(adjacency_list, vertics_cost)\n",
    "solution = genetic_algorithm(nPopulation, nIterations, nElite, nTournament, probability, graph)\n",
    "print_solution(solution)\n"
   ]
  },
  {
   "cell_type": "code",
   "execution_count": 84,
   "metadata": {},
   "outputs": [
    {
     "name": "stdout",
     "output_type": "stream",
     "text": [
      "Solution: \n",
      "Graph1 -  [[-1], [-1], [-1], [4], [3]]\n",
      "Graph2 -  [[1, 2], [0], [0], [-1], [-1]]\n",
      "Fitness -  2\n",
      "Code -  [False, False, False, True, True]\n"
     ]
    }
   ],
   "source": [
    "adjacency_list = [[1,2], [0,4],[0,3],[2,4], [1,3]]\n",
    "vertics_cost = [3,7,1,4,9]\n",
    "graph = Graph(adjacency_list, vertics_cost)\n",
    "solution = genetic_algorithm(nPopulation, nIterations, nElite, nTournament, probability, graph)\n",
    "print_solution(solution)"
   ]
  },
  {
   "cell_type": "code",
   "execution_count": 85,
   "metadata": {},
   "outputs": [
    {
     "name": "stdout",
     "output_type": "stream",
     "text": [
      "Solution: \n",
      "Graph1 -  [[1, 3], [0, 3, 28], [-1], [0, 1, 4, 5], [3, 19, 5], [3, 4], [-1], [-1], [-1], [-1], [-1], [-1], [-1], [-1], [27], [-1], [22, 23, 17], [16], [-1], [27, 4, 31, 26], [-1], [28, 22], [21, 16], [16], [-1], [-1], [19, 31], [14, 19], [21, 1], [-1], [-1], [19, 26]]\n",
      "Graph2 -  [[-1], [-1], [9, 10, 24], [-1], [-1], [-1], [7, 8], [6, 8], [6, 7, 9], [8, 20, 2, 10, 12, 30, 29, 15], [2, 9], [13, 18, 25, 12], [11, 9], [18, 11], [-1], [12], [-1], [-1], [11, 13], [-1], [9], [-1], [-1], [-1], [2], [11, 29], [-1], [-1], [-1], [25, 9], [9], [-1]]\n",
      "Fitness -  0\n",
      "Code -  [True, True, False, True, True, True, False, False, False, False, False, False, False, False, True, False, True, True, False, True, False, True, True, True, False, False, True, True, True, False, False, True]\n"
     ]
    }
   ],
   "source": [
    "vertics_cost = [1,2,3,4,5,6,6,5,4,1,2,3,3,2,1,2,5,4,3,2,4,3,2,4,2,1,3,1,1,1,3,1]\n",
    "adjacency_list = [[1,3],[0,3,20,11,6,28],[9,10,24],[0,1,9,12,4,5],[3,19,5],[3,4], [1,7,8], [6,8,14],[6,7,9], [8,20,3,2,10,12,30,23,16,29,15],[2,17,9],[1,13,18,25,12],[11,3,9],[18,11],[7,15,27],[14,12],[22,23,17,9],[16,10],[19,11,27,13],[18,27,4,31,26],[1,9],[28,22],[29,21,16],[16,9,24,30],[23,31,2],[28,11,29],[19,31],[14,18,19],[21,1,25],[25,22,9],[23,9],[19,26,24]]\n",
    "graph = Graph(adjacency_list, vertics_cost)\n",
    "solution = genetic_algorithm(nPopulation, nIterations, nElite, nTournament, probability, graph)\n",
    "print_solution(solution)"
   ]
  },
  {
   "cell_type": "code",
   "execution_count": null,
   "metadata": {},
   "outputs": [],
   "source": []
  }
 ],
 "metadata": {
  "kernelspec": {
   "display_name": "Python 3",
   "language": "python",
   "name": "python3"
  },
  "language_info": {
   "codemirror_mode": {
    "name": "ipython",
    "version": 3
   },
   "file_extension": ".py",
   "mimetype": "text/x-python",
   "name": "python",
   "nbconvert_exporter": "python",
   "pygments_lexer": "ipython3",
   "version": "3.8.2"
  }
 },
 "nbformat": 4,
 "nbformat_minor": 4
}
