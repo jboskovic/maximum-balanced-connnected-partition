{
 "cells": [
  {
   "cell_type": "code",
   "execution_count": 1,
   "metadata": {},
   "outputs": [],
   "source": [
    "import random"
   ]
  },
  {
   "cell_type": "code",
   "execution_count": 2,
   "metadata": {},
   "outputs": [],
   "source": [
    "#graf je predstavljen kao mapa\n",
    "class Graph:\n",
    "    #ajdacency_list - mapira cvorove u listu cvorova sa kojima je povezan\n",
    "    #cost - niz cena cvorova\n",
    "    #V - broj cvorova\n",
    "    def __init__(self, adjacency_list, cost):\n",
    "        self.cost = cost\n",
    "        self.adj = adjacency_list\n",
    "        self.V = len(self.adj)\n",
    "    \n",
    "    #DFS obilazak grafa\n",
    "    #povratna vrednost - lista cvorova\n",
    "    def DFSUtil(self, temp, node, visited):\n",
    "        visited[node] = True\n",
    "        temp.append(node)\n",
    "        for v in self.adj.get(node):\n",
    "            if visited[v] == False:\n",
    "                temp = self.DFSUtil(temp, v, visited)\n",
    "        return temp\n",
    "    \n",
    "    #povratna vreednost - lista komponenti\n",
    "    def connectedComponents(self):\n",
    "        visited = {}\n",
    "        cc = []\n",
    "        for k in self.adj.keys() :\n",
    "            visited[k] = False\n",
    "        for (k,v) in self.adj.items():\n",
    "            if visited[k] == False:\n",
    "                temp = []\n",
    "                cc.append(self.DFSUtil(temp, k, visited))\n",
    "        return cc\n",
    "    #funkcija vraca novi graf koji ne sadrzi cvor node (kao ni njegove grane)\n",
    "    #izbacujemo cvor i sve grane koje polaze iz tog cvora\n",
    "    def remove_node(self,node):\n",
    "        newAdj = {}\n",
    "        for (k,v) in self.adj.items():\n",
    "            if k == node:\n",
    "                continue\n",
    "            else:\n",
    "                newAdj[k] = []\n",
    "                for i in range(len(v)):\n",
    "                    if v[i] != node:\n",
    "                        newAdj[k].append(v[i])\n",
    "                        \n",
    "        return Graph(newAdj, self.cost)\n",
    "\n",
    "    #povratna vrednost funkcije je najveca cena cvora iz datog grafa\n",
    "    def maxCost(self):\n",
    "        maks = -float('inf')\n",
    "        #prolazimo kroz sve cvovore koji se nalaze u grafu\n",
    "        for (k,v) in self.adj.items():\n",
    "            if self.cost[k] > maks:\n",
    "                maks = self.cost[k]\n",
    "        return maks"
   ]
  },
  {
   "cell_type": "code",
   "execution_count": null,
   "metadata": {},
   "outputs": [],
   "source": []
  }
 ],
 "metadata": {
  "kernelspec": {
   "display_name": "Python 3",
   "language": "python",
   "name": "python3"
  },
  "language_info": {
   "codemirror_mode": {
    "name": "ipython",
    "version": 3
   },
   "file_extension": ".py",
   "mimetype": "text/x-python",
   "name": "python",
   "nbconvert_exporter": "python",
   "pygments_lexer": "ipython3",
   "version": "3.8.2"
  }
 },
 "nbformat": 4,
 "nbformat_minor": 4
}
