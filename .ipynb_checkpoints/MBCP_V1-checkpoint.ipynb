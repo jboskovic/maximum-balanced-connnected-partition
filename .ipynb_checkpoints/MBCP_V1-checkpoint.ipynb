{
 "cells": [
  {
   "cell_type": "code",
   "execution_count": 68,
   "metadata": {},
   "outputs": [],
   "source": [
    "import random\n",
    "import numpy as np\n",
    "import math"
   ]
  },
  {
   "cell_type": "code",
   "execution_count": 85,
   "metadata": {},
   "outputs": [],
   "source": [
    "adjacency_list1 = [[1,2,5], [0,5,2],[0,1,3,5], [2,4], [3,5],[0,1,2,4]]\n",
    "vertics_cost1 = [8,4,1,6,5,4]\n",
    "\n",
    "vertics_cost = [1,2,3,4,5,6,6,5,4,1,2,3,3,2,1,2,5,4,3,2,4,3,2,4,2,1,3,1,1,1,3,1]\n",
    "adjacency_list = [[1,3],[0,3,20,11,6,28],[9,10,24],[0,1,9,12,4,5],[3,19,5],[3,4], [1,7,8], [6,8,14],[6,7,9], [8,20,3,2,10,12,30,23,16,29,15],[2,17,9],[1,13,18,25,12],[11,3,9],[18,11],[7,15,27],[14,12],[22,23,17,9],[16,10],[19,11,27,13],[18,27,4,31,26],[1,9],[28,22],[29,21,16],[16,9,24,30],[23,31,2],[28,11,29],[19,31],[14,18,19],[21,1,25],[25,22,9],[23,9],[19,26,24]]"
   ]
  },
  {
   "cell_type": "code",
   "execution_count": 45,
   "metadata": {},
   "outputs": [],
   "source": [
    "def remove_node(adjacency_list, node):\n",
    "    graph = adjacency_list.copy()\n",
    "    graph[node] = [-1]\n",
    "    return [[ele for ele in sub if ele != node] for sub in graph]"
   ]
  },
  {
   "cell_type": "code",
   "execution_count": 66,
   "metadata": {},
   "outputs": [
    {
     "name": "stdout",
     "output_type": "stream",
     "text": [
      "[[-1], [], [3], [2], [-1]]\n",
      "[[0, 1, 4, 3, 2]]\n",
      "1\n",
      "9\n",
      "7\n",
      "2\n"
     ]
    }
   ],
   "source": [
    "# klasa graf, koja racuna broj komponenti grafa\n",
    "class Graph:\n",
    "    def __init__(self,adjacency_list, cost):\n",
    "        self.cost = cost\n",
    "        self.adj = adjacency_list\n",
    "        self.V = len(self.adj)\n",
    "        self.cost = cost\n",
    "    def DFSUtil(self, temp, v, visited):\n",
    "        visited[v] = True\n",
    "        temp.append(v)\n",
    "        for i in self.adj[v]:\n",
    "            if visited[i] == False:\n",
    "                temp = self.DFSUtil(temp, i, visited)\n",
    "        return temp\n",
    "    def connectedComponents(self):\n",
    "        visited = []\n",
    "        cc = []\n",
    "        for i in range(self.V):\n",
    "            if self.adj[i] != [] and self.adj[i][0] == -1:\n",
    "                visited.append(True)\n",
    "            else:\n",
    "                visited.append(False)\n",
    "        for v in range(self.V):\n",
    "            if visited[v] == False:\n",
    "                temp=[]\n",
    "                cc.append(self.DFSUtil(temp, v, visited))\n",
    "        return cc\n",
    "    def remove_node(self,node):\n",
    "        newAdj = self.adj.copy()\n",
    "        newAdj[node] = [-1]\n",
    "        newAdj = [[ele for ele in sub if ele != node] for sub in newAdj]\n",
    "        return Graph(newAdj, self.cost)\n",
    "    def maxCost(self):\n",
    "        maks = -float('inf')\n",
    "        for i in range(self.V):\n",
    "            if (self.adj[i] != [] and self.adj[i][0] != -1) or self.adj[i] == []:\n",
    "                if self.cost[i] > maks:\n",
    "                    maks = self.cost[i]\n",
    "        return maks\n",
    "\n",
    "graph = Graph(adjacency_list, vertics_cost)\n",
    "graph1 = graph.remove_node(4)\n",
    "graph1 = graph1.remove_node(0)\n",
    "print(graph1.adj)\n",
    "cc = graph.connectedComponents()\n",
    "print(cc)\n",
    "print(len(cc))\n",
    "print(graph.maxCost())\n",
    "print(graph1.maxCost())\n",
    "print(len(graph1.connectedComponents()))\n"
   ]
  },
  {
   "cell_type": "code",
   "execution_count": null,
   "metadata": {},
   "outputs": [],
   "source": []
  },
  {
   "cell_type": "code",
   "execution_count": 86,
   "metadata": {},
   "outputs": [],
   "source": [
    "#klasa sadrzi informacije o genomu \n",
    "class Individual:\n",
    "    def __init__(self, V, adjacency_list, cost):\n",
    "        self.graph = Graph(adjacency_list, cost)\n",
    "        self.code = []\n",
    "        for i in range(V):\n",
    "            self.code.append(random.random() < 0.5)\n",
    "        self.fitness = self.fitnessFunction()\n",
    "        self.subgraph1, self.subgraph2 = self.getSubgraphs()\n",
    "    def __lt__(self, other):\n",
    "        return self.fitness < other.fitness\n",
    "    def fitnessFunction(self):\n",
    "        w1 = 0\n",
    "        w2 = 0\n",
    "        graph1 = Graph(self.graph.adj, self.graph.cost)\n",
    "        graph2 = Graph(self.graph.adj, self.graph.cost)\n",
    "        for i in range(len(self.code)):\n",
    "            if self.code[i]:\n",
    "                w1 += vertics_cost[i]\n",
    "                graph2 = graph2.remove_node(i)\n",
    "            else:\n",
    "                w2 += vertics_cost[i]\n",
    "                graph1 = graph1.remove_node(i)\n",
    "                \n",
    "        nc1 = len(graph1.connectedComponents())\n",
    "        nc2 = len(graph2.connectedComponents())\n",
    "        max1 = graph1.maxCost()\n",
    "        max2 = graph2.maxCost()\n",
    "        penalty_function = (nc1-1)*max1 + (nc2-1)*max2\n",
    "        return abs(w1-w2)+penalty_function\n",
    "    def getSubgraphs(self):\n",
    "        sub1 = adjacency_list.copy()\n",
    "        sub2 = adjacency_list.copy()\n",
    "        for i in range(len(self.code)):\n",
    "            if self.code[i]:\n",
    "                sub2 = remove_node(sub2, i)\n",
    "            else:\n",
    "                sub1 = remove_node(sub1, i)\n",
    "        return sub1, sub2"
   ]
  },
  {
   "cell_type": "code",
   "execution_count": 87,
   "metadata": {},
   "outputs": [],
   "source": [
    "Npop = 100\n",
    "probability = 0.05\n"
   ]
  },
  {
   "cell_type": "code",
   "execution_count": 88,
   "metadata": {},
   "outputs": [],
   "source": [
    "def selection(population):\n",
    "    min = float('inf')\n",
    "    for i in range(6):\n",
    "        j = random.randrange(Npop)\n",
    "        if population[j].fitness < min:\n",
    "            min = population[j].fitness\n",
    "            k = j\n",
    "    return k"
   ]
  },
  {
   "cell_type": "code",
   "execution_count": 89,
   "metadata": {},
   "outputs": [],
   "source": [
    "def crossover(parent1, parent2, child1, child2):\n",
    "    i = random.randrange(len(parent1.code))\n",
    "    for j in range(i):\n",
    "        child1.code[j] = parent1.code[j]\n",
    "        child2.code[j] = parent2.code[j]\n",
    "    for j in range(i, len(parent1.code)):\n",
    "        child1.code[j] = parent2.code[j]\n",
    "        child2.code[j] = parent1.code[j]\n",
    "    "
   ]
  },
  {
   "cell_type": "code",
   "execution_count": 90,
   "metadata": {},
   "outputs": [],
   "source": [
    "def mutation(individual):\n",
    "    for i in range(len(individual.code)):\n",
    "        if random.random() > probability:\n",
    "            continue\n",
    "        individual.code[i] = not individual.code[i]\n",
    "        "
   ]
  },
  {
   "cell_type": "code",
   "execution_count": 91,
   "metadata": {},
   "outputs": [
    {
     "name": "stdout",
     "output_type": "stream",
     "text": [
      "Solution  0\n",
      "Graph 1 [[-1], [-1], [-1], [12, 4, 5], [3, 19, 5], [3, 4], [7], [6, 14], [-1], [-1], [-1], [13, 18, 12], [11, 3], [18, 11], [7, 15], [14, 12], [23, 17], [16], [19, 11, 13], [18, 4, 31, 26], [], [], [-1], [16, 30], [-1], [-1], [19, 31], [-1], [-1], [], [23], [19, 26]]\n",
      "Graph 2 [[1], [0, 28], [9, 10, 24], [-1], [-1], [-1], [-1], [-1], [9], [8, 2, 10], [2, 9], [-1], [-1], [-1], [-1], [-1], [-1], [-1], [-1], [-1], [-1], [-1], [], [-1], [2], [28], [-1], [], [1, 25], [-1], [-1], [-1]]\n",
      "Vertics [True, False, True, True, False, False, True, True, True, True, False, False, True, False, True, True, False, False, False, False, True, True, True, False, False, True, False, False, True, True, True, False]\n"
     ]
    }
   ],
   "source": [
    "#pocetni kod genetskog algoritma\n",
    "#potrebno povecati vrednost fitnes funkcije ukoliko dobijeni grafovi nisu povezani\n",
    "population = []\n",
    "newPopulation = []\n",
    "V = len(adjacency_list)\n",
    "for i in range(Npop):\n",
    "    population.append(Individual(V, adjacency_list, vertics_cost))\n",
    "    newPopulation.append(Individual(V,  adjacency_list, vertics_cost))\n",
    "\n",
    "for iteration in range(500):\n",
    "    population.sort()\n",
    "    for i in range(30):\n",
    "        newPopulation[i] = population[i]\n",
    "        \n",
    "    for i in range(30,Npop,2):\n",
    "        k1 = selection(population)\n",
    "        k2 = selection(population)\n",
    "        crossover(population[k1], population[k2],newPopulation[i],newPopulation[i+1])\n",
    "        mutation(newPopulation[i])\n",
    "        mutation(newPopulation[i+1])\n",
    "        newPopulation[i].fitness = newPopulation[i].fitnessFunction()\n",
    "        newPopulation[i+1].fitness = newPopulation[i+1].fitnessFunction()\n",
    "    population = newPopulation\n",
    "population.sort()\n",
    "print('Solution ', population[0].fitness)\n",
    "print('Graph 1', population[0].subgraph1)\n",
    "print('Graph 2',population[0].subgraph2)\n",
    "print('Vertics', population[0].code)\n",
    "\n",
    "\n",
    "    "
   ]
  },
  {
   "cell_type": "code",
   "execution_count": null,
   "metadata": {},
   "outputs": [],
   "source": []
  },
  {
   "cell_type": "code",
   "execution_count": null,
   "metadata": {},
   "outputs": [],
   "source": []
  }
 ],
 "metadata": {
  "kernelspec": {
   "display_name": "Python 3",
   "language": "python",
   "name": "python3"
  },
  "language_info": {
   "codemirror_mode": {
    "name": "ipython",
    "version": 3
   },
   "file_extension": ".py",
   "mimetype": "text/x-python",
   "name": "python",
   "nbconvert_exporter": "python",
   "pygments_lexer": "ipython3",
   "version": "3.8.2"
  }
 },
 "nbformat": 4,
 "nbformat_minor": 4
}
